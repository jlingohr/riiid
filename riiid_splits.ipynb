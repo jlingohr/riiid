{
  "nbformat": 4,
  "nbformat_minor": 0,
  "metadata": {
    "colab": {
      "name": "riiid_splits.ipynb",
      "provenance": [],
      "collapsed_sections": [],
      "machine_shape": "hm",
      "authorship_tag": "ABX9TyOzovb6wi7UpmKPDnej0ZQa",
      "include_colab_link": true
    },
    "kernelspec": {
      "name": "python3",
      "display_name": "Python 3"
    },
    "widgets": {
      "application/vnd.jupyter.widget-state+json": {
        "1b5528fd897542acbb1ec01f98e2c9fb": {
          "model_module": "@jupyter-widgets/controls",
          "model_name": "HBoxModel",
          "state": {
            "_view_name": "HBoxView",
            "_dom_classes": [],
            "_model_name": "HBoxModel",
            "_view_module": "@jupyter-widgets/controls",
            "_model_module_version": "1.5.0",
            "_view_count": null,
            "_view_module_version": "1.5.0",
            "box_style": "",
            "layout": "IPY_MODEL_2db399ffaa17429d9e0a438ceca32de4",
            "_model_module": "@jupyter-widgets/controls",
            "children": [
              "IPY_MODEL_dd05976153424e39bddeacd1cb809662",
              "IPY_MODEL_878ff9c2065d440f8c7c494c17f4f55d"
            ]
          }
        },
        "2db399ffaa17429d9e0a438ceca32de4": {
          "model_module": "@jupyter-widgets/base",
          "model_name": "LayoutModel",
          "state": {
            "_view_name": "LayoutView",
            "grid_template_rows": null,
            "right": null,
            "justify_content": null,
            "_view_module": "@jupyter-widgets/base",
            "overflow": null,
            "_model_module_version": "1.2.0",
            "_view_count": null,
            "flex_flow": null,
            "width": null,
            "min_width": null,
            "border": null,
            "align_items": null,
            "bottom": null,
            "_model_module": "@jupyter-widgets/base",
            "top": null,
            "grid_column": null,
            "overflow_y": null,
            "overflow_x": null,
            "grid_auto_flow": null,
            "grid_area": null,
            "grid_template_columns": null,
            "flex": null,
            "_model_name": "LayoutModel",
            "justify_items": null,
            "grid_row": null,
            "max_height": null,
            "align_content": null,
            "visibility": null,
            "align_self": null,
            "height": null,
            "min_height": null,
            "padding": null,
            "grid_auto_rows": null,
            "grid_gap": null,
            "max_width": null,
            "order": null,
            "_view_module_version": "1.2.0",
            "grid_template_areas": null,
            "object_position": null,
            "object_fit": null,
            "grid_auto_columns": null,
            "margin": null,
            "display": null,
            "left": null
          }
        },
        "dd05976153424e39bddeacd1cb809662": {
          "model_module": "@jupyter-widgets/controls",
          "model_name": "FloatProgressModel",
          "state": {
            "_view_name": "ProgressView",
            "style": "IPY_MODEL_0b97187de5fe4a379412d0b8c9ccd15a",
            "_dom_classes": [],
            "description": "",
            "_model_name": "FloatProgressModel",
            "bar_style": "success",
            "max": 1,
            "_view_module": "@jupyter-widgets/controls",
            "_model_module_version": "1.5.0",
            "value": 1,
            "_view_count": null,
            "_view_module_version": "1.5.0",
            "orientation": "horizontal",
            "min": 0,
            "description_tooltip": null,
            "_model_module": "@jupyter-widgets/controls",
            "layout": "IPY_MODEL_cff106025b1046fc968dd483f7ad4c6d"
          }
        },
        "878ff9c2065d440f8c7c494c17f4f55d": {
          "model_module": "@jupyter-widgets/controls",
          "model_name": "HTMLModel",
          "state": {
            "_view_name": "HTMLView",
            "style": "IPY_MODEL_22b1ca4d8f4e4213b3809fc20d257c51",
            "_dom_classes": [],
            "description": "",
            "_model_name": "HTMLModel",
            "placeholder": "​",
            "_view_module": "@jupyter-widgets/controls",
            "_model_module_version": "1.5.0",
            "value": " 389464/? [01:23&lt;00:00, 4672.89it/s]",
            "_view_count": null,
            "_view_module_version": "1.5.0",
            "description_tooltip": null,
            "_model_module": "@jupyter-widgets/controls",
            "layout": "IPY_MODEL_35cda3503e914678983a23c82fb45afe"
          }
        },
        "0b97187de5fe4a379412d0b8c9ccd15a": {
          "model_module": "@jupyter-widgets/controls",
          "model_name": "ProgressStyleModel",
          "state": {
            "_view_name": "StyleView",
            "_model_name": "ProgressStyleModel",
            "description_width": "initial",
            "_view_module": "@jupyter-widgets/base",
            "_model_module_version": "1.5.0",
            "_view_count": null,
            "_view_module_version": "1.2.0",
            "bar_color": null,
            "_model_module": "@jupyter-widgets/controls"
          }
        },
        "cff106025b1046fc968dd483f7ad4c6d": {
          "model_module": "@jupyter-widgets/base",
          "model_name": "LayoutModel",
          "state": {
            "_view_name": "LayoutView",
            "grid_template_rows": null,
            "right": null,
            "justify_content": null,
            "_view_module": "@jupyter-widgets/base",
            "overflow": null,
            "_model_module_version": "1.2.0",
            "_view_count": null,
            "flex_flow": null,
            "width": null,
            "min_width": null,
            "border": null,
            "align_items": null,
            "bottom": null,
            "_model_module": "@jupyter-widgets/base",
            "top": null,
            "grid_column": null,
            "overflow_y": null,
            "overflow_x": null,
            "grid_auto_flow": null,
            "grid_area": null,
            "grid_template_columns": null,
            "flex": null,
            "_model_name": "LayoutModel",
            "justify_items": null,
            "grid_row": null,
            "max_height": null,
            "align_content": null,
            "visibility": null,
            "align_self": null,
            "height": null,
            "min_height": null,
            "padding": null,
            "grid_auto_rows": null,
            "grid_gap": null,
            "max_width": null,
            "order": null,
            "_view_module_version": "1.2.0",
            "grid_template_areas": null,
            "object_position": null,
            "object_fit": null,
            "grid_auto_columns": null,
            "margin": null,
            "display": null,
            "left": null
          }
        },
        "22b1ca4d8f4e4213b3809fc20d257c51": {
          "model_module": "@jupyter-widgets/controls",
          "model_name": "DescriptionStyleModel",
          "state": {
            "_view_name": "StyleView",
            "_model_name": "DescriptionStyleModel",
            "description_width": "",
            "_view_module": "@jupyter-widgets/base",
            "_model_module_version": "1.5.0",
            "_view_count": null,
            "_view_module_version": "1.2.0",
            "_model_module": "@jupyter-widgets/controls"
          }
        },
        "35cda3503e914678983a23c82fb45afe": {
          "model_module": "@jupyter-widgets/base",
          "model_name": "LayoutModel",
          "state": {
            "_view_name": "LayoutView",
            "grid_template_rows": null,
            "right": null,
            "justify_content": null,
            "_view_module": "@jupyter-widgets/base",
            "overflow": null,
            "_model_module_version": "1.2.0",
            "_view_count": null,
            "flex_flow": null,
            "width": null,
            "min_width": null,
            "border": null,
            "align_items": null,
            "bottom": null,
            "_model_module": "@jupyter-widgets/base",
            "top": null,
            "grid_column": null,
            "overflow_y": null,
            "overflow_x": null,
            "grid_auto_flow": null,
            "grid_area": null,
            "grid_template_columns": null,
            "flex": null,
            "_model_name": "LayoutModel",
            "justify_items": null,
            "grid_row": null,
            "max_height": null,
            "align_content": null,
            "visibility": null,
            "align_self": null,
            "height": null,
            "min_height": null,
            "padding": null,
            "grid_auto_rows": null,
            "grid_gap": null,
            "max_width": null,
            "order": null,
            "_view_module_version": "1.2.0",
            "grid_template_areas": null,
            "object_position": null,
            "object_fit": null,
            "grid_auto_columns": null,
            "margin": null,
            "display": null,
            "left": null
          }
        },
        "0067bf6298714583ba86b9866479e8e7": {
          "model_module": "@jupyter-widgets/controls",
          "model_name": "HBoxModel",
          "state": {
            "_view_name": "HBoxView",
            "_dom_classes": [],
            "_model_name": "HBoxModel",
            "_view_module": "@jupyter-widgets/controls",
            "_model_module_version": "1.5.0",
            "_view_count": null,
            "_view_module_version": "1.5.0",
            "box_style": "",
            "layout": "IPY_MODEL_f65908ef24044612896c59bd47fb2828",
            "_model_module": "@jupyter-widgets/controls",
            "children": [
              "IPY_MODEL_e6b16d1e1264488395adb4f2894093b1",
              "IPY_MODEL_a2e68152f4704b0caf17b13679c6b6c9"
            ]
          }
        },
        "f65908ef24044612896c59bd47fb2828": {
          "model_module": "@jupyter-widgets/base",
          "model_name": "LayoutModel",
          "state": {
            "_view_name": "LayoutView",
            "grid_template_rows": null,
            "right": null,
            "justify_content": null,
            "_view_module": "@jupyter-widgets/base",
            "overflow": null,
            "_model_module_version": "1.2.0",
            "_view_count": null,
            "flex_flow": null,
            "width": null,
            "min_width": null,
            "border": null,
            "align_items": null,
            "bottom": null,
            "_model_module": "@jupyter-widgets/base",
            "top": null,
            "grid_column": null,
            "overflow_y": null,
            "overflow_x": null,
            "grid_auto_flow": null,
            "grid_area": null,
            "grid_template_columns": null,
            "flex": null,
            "_model_name": "LayoutModel",
            "justify_items": null,
            "grid_row": null,
            "max_height": null,
            "align_content": null,
            "visibility": null,
            "align_self": null,
            "height": null,
            "min_height": null,
            "padding": null,
            "grid_auto_rows": null,
            "grid_gap": null,
            "max_width": null,
            "order": null,
            "_view_module_version": "1.2.0",
            "grid_template_areas": null,
            "object_position": null,
            "object_fit": null,
            "grid_auto_columns": null,
            "margin": null,
            "display": null,
            "left": null
          }
        },
        "e6b16d1e1264488395adb4f2894093b1": {
          "model_module": "@jupyter-widgets/controls",
          "model_name": "FloatProgressModel",
          "state": {
            "_view_name": "ProgressView",
            "style": "IPY_MODEL_72414c7a62cd492a8f66763c210d59f0",
            "_dom_classes": [],
            "description": "",
            "_model_name": "FloatProgressModel",
            "bar_style": "success",
            "max": 1,
            "_view_module": "@jupyter-widgets/controls",
            "_model_module_version": "1.5.0",
            "value": 1,
            "_view_count": null,
            "_view_module_version": "1.5.0",
            "orientation": "horizontal",
            "min": 0,
            "description_tooltip": null,
            "_model_module": "@jupyter-widgets/controls",
            "layout": "IPY_MODEL_f906ba0e40c44ec58a9e2b3410f92844"
          }
        },
        "a2e68152f4704b0caf17b13679c6b6c9": {
          "model_module": "@jupyter-widgets/controls",
          "model_name": "HTMLModel",
          "state": {
            "_view_name": "HTMLView",
            "style": "IPY_MODEL_4b15d66f99f0432baf3bf2973b8a2c2f",
            "_dom_classes": [],
            "description": "",
            "_model_name": "HTMLModel",
            "placeholder": "​",
            "_view_module": "@jupyter-widgets/controls",
            "_model_module_version": "1.5.0",
            "value": " 389464/? [00:42&lt;00:00, 9243.81it/s]",
            "_view_count": null,
            "_view_module_version": "1.5.0",
            "description_tooltip": null,
            "_model_module": "@jupyter-widgets/controls",
            "layout": "IPY_MODEL_ed300b11987149c3b52a6c6eb1a61646"
          }
        },
        "72414c7a62cd492a8f66763c210d59f0": {
          "model_module": "@jupyter-widgets/controls",
          "model_name": "ProgressStyleModel",
          "state": {
            "_view_name": "StyleView",
            "_model_name": "ProgressStyleModel",
            "description_width": "initial",
            "_view_module": "@jupyter-widgets/base",
            "_model_module_version": "1.5.0",
            "_view_count": null,
            "_view_module_version": "1.2.0",
            "bar_color": null,
            "_model_module": "@jupyter-widgets/controls"
          }
        },
        "f906ba0e40c44ec58a9e2b3410f92844": {
          "model_module": "@jupyter-widgets/base",
          "model_name": "LayoutModel",
          "state": {
            "_view_name": "LayoutView",
            "grid_template_rows": null,
            "right": null,
            "justify_content": null,
            "_view_module": "@jupyter-widgets/base",
            "overflow": null,
            "_model_module_version": "1.2.0",
            "_view_count": null,
            "flex_flow": null,
            "width": null,
            "min_width": null,
            "border": null,
            "align_items": null,
            "bottom": null,
            "_model_module": "@jupyter-widgets/base",
            "top": null,
            "grid_column": null,
            "overflow_y": null,
            "overflow_x": null,
            "grid_auto_flow": null,
            "grid_area": null,
            "grid_template_columns": null,
            "flex": null,
            "_model_name": "LayoutModel",
            "justify_items": null,
            "grid_row": null,
            "max_height": null,
            "align_content": null,
            "visibility": null,
            "align_self": null,
            "height": null,
            "min_height": null,
            "padding": null,
            "grid_auto_rows": null,
            "grid_gap": null,
            "max_width": null,
            "order": null,
            "_view_module_version": "1.2.0",
            "grid_template_areas": null,
            "object_position": null,
            "object_fit": null,
            "grid_auto_columns": null,
            "margin": null,
            "display": null,
            "left": null
          }
        },
        "4b15d66f99f0432baf3bf2973b8a2c2f": {
          "model_module": "@jupyter-widgets/controls",
          "model_name": "DescriptionStyleModel",
          "state": {
            "_view_name": "StyleView",
            "_model_name": "DescriptionStyleModel",
            "description_width": "",
            "_view_module": "@jupyter-widgets/base",
            "_model_module_version": "1.5.0",
            "_view_count": null,
            "_view_module_version": "1.2.0",
            "_model_module": "@jupyter-widgets/controls"
          }
        },
        "ed300b11987149c3b52a6c6eb1a61646": {
          "model_module": "@jupyter-widgets/base",
          "model_name": "LayoutModel",
          "state": {
            "_view_name": "LayoutView",
            "grid_template_rows": null,
            "right": null,
            "justify_content": null,
            "_view_module": "@jupyter-widgets/base",
            "overflow": null,
            "_model_module_version": "1.2.0",
            "_view_count": null,
            "flex_flow": null,
            "width": null,
            "min_width": null,
            "border": null,
            "align_items": null,
            "bottom": null,
            "_model_module": "@jupyter-widgets/base",
            "top": null,
            "grid_column": null,
            "overflow_y": null,
            "overflow_x": null,
            "grid_auto_flow": null,
            "grid_area": null,
            "grid_template_columns": null,
            "flex": null,
            "_model_name": "LayoutModel",
            "justify_items": null,
            "grid_row": null,
            "max_height": null,
            "align_content": null,
            "visibility": null,
            "align_self": null,
            "height": null,
            "min_height": null,
            "padding": null,
            "grid_auto_rows": null,
            "grid_gap": null,
            "max_width": null,
            "order": null,
            "_view_module_version": "1.2.0",
            "grid_template_areas": null,
            "object_position": null,
            "object_fit": null,
            "grid_auto_columns": null,
            "margin": null,
            "display": null,
            "left": null
          }
        },
        "af10d6bd3efd4bddb5698b4bc6cd7b22": {
          "model_module": "@jupyter-widgets/controls",
          "model_name": "HBoxModel",
          "state": {
            "_view_name": "HBoxView",
            "_dom_classes": [],
            "_model_name": "HBoxModel",
            "_view_module": "@jupyter-widgets/controls",
            "_model_module_version": "1.5.0",
            "_view_count": null,
            "_view_module_version": "1.5.0",
            "box_style": "",
            "layout": "IPY_MODEL_c4d3a2add1df47889f62af0aee124a3d",
            "_model_module": "@jupyter-widgets/controls",
            "children": [
              "IPY_MODEL_faa295f0b7c5484084ec1836f54d821f",
              "IPY_MODEL_5e9289c8c4ef4a65a591093cb7c330be"
            ]
          }
        },
        "c4d3a2add1df47889f62af0aee124a3d": {
          "model_module": "@jupyter-widgets/base",
          "model_name": "LayoutModel",
          "state": {
            "_view_name": "LayoutView",
            "grid_template_rows": null,
            "right": null,
            "justify_content": null,
            "_view_module": "@jupyter-widgets/base",
            "overflow": null,
            "_model_module_version": "1.2.0",
            "_view_count": null,
            "flex_flow": null,
            "width": null,
            "min_width": null,
            "border": null,
            "align_items": null,
            "bottom": null,
            "_model_module": "@jupyter-widgets/base",
            "top": null,
            "grid_column": null,
            "overflow_y": null,
            "overflow_x": null,
            "grid_auto_flow": null,
            "grid_area": null,
            "grid_template_columns": null,
            "flex": null,
            "_model_name": "LayoutModel",
            "justify_items": null,
            "grid_row": null,
            "max_height": null,
            "align_content": null,
            "visibility": null,
            "align_self": null,
            "height": null,
            "min_height": null,
            "padding": null,
            "grid_auto_rows": null,
            "grid_gap": null,
            "max_width": null,
            "order": null,
            "_view_module_version": "1.2.0",
            "grid_template_areas": null,
            "object_position": null,
            "object_fit": null,
            "grid_auto_columns": null,
            "margin": null,
            "display": null,
            "left": null
          }
        },
        "faa295f0b7c5484084ec1836f54d821f": {
          "model_module": "@jupyter-widgets/controls",
          "model_name": "FloatProgressModel",
          "state": {
            "_view_name": "ProgressView",
            "style": "IPY_MODEL_2d9ecaf493f347e8a4454225cd3efc77",
            "_dom_classes": [],
            "description": "",
            "_model_name": "FloatProgressModel",
            "bar_style": "success",
            "max": 1,
            "_view_module": "@jupyter-widgets/controls",
            "_model_module_version": "1.5.0",
            "value": 1,
            "_view_count": null,
            "_view_module_version": "1.5.0",
            "orientation": "horizontal",
            "min": 0,
            "description_tooltip": null,
            "_model_module": "@jupyter-widgets/controls",
            "layout": "IPY_MODEL_17fc481e7b0346fc9afa77008565a582"
          }
        },
        "5e9289c8c4ef4a65a591093cb7c330be": {
          "model_module": "@jupyter-widgets/controls",
          "model_name": "HTMLModel",
          "state": {
            "_view_name": "HTMLView",
            "style": "IPY_MODEL_c13ac9547c534102b960e56388b97825",
            "_dom_classes": [],
            "description": "",
            "_model_name": "HTMLModel",
            "placeholder": "​",
            "_view_module": "@jupyter-widgets/controls",
            "_model_module_version": "1.5.0",
            "value": " 389464/? [00:07&lt;00:00, 48782.81it/s]",
            "_view_count": null,
            "_view_module_version": "1.5.0",
            "description_tooltip": null,
            "_model_module": "@jupyter-widgets/controls",
            "layout": "IPY_MODEL_78550a9444aa483cab34e80a56017635"
          }
        },
        "2d9ecaf493f347e8a4454225cd3efc77": {
          "model_module": "@jupyter-widgets/controls",
          "model_name": "ProgressStyleModel",
          "state": {
            "_view_name": "StyleView",
            "_model_name": "ProgressStyleModel",
            "description_width": "initial",
            "_view_module": "@jupyter-widgets/base",
            "_model_module_version": "1.5.0",
            "_view_count": null,
            "_view_module_version": "1.2.0",
            "bar_color": null,
            "_model_module": "@jupyter-widgets/controls"
          }
        },
        "17fc481e7b0346fc9afa77008565a582": {
          "model_module": "@jupyter-widgets/base",
          "model_name": "LayoutModel",
          "state": {
            "_view_name": "LayoutView",
            "grid_template_rows": null,
            "right": null,
            "justify_content": null,
            "_view_module": "@jupyter-widgets/base",
            "overflow": null,
            "_model_module_version": "1.2.0",
            "_view_count": null,
            "flex_flow": null,
            "width": null,
            "min_width": null,
            "border": null,
            "align_items": null,
            "bottom": null,
            "_model_module": "@jupyter-widgets/base",
            "top": null,
            "grid_column": null,
            "overflow_y": null,
            "overflow_x": null,
            "grid_auto_flow": null,
            "grid_area": null,
            "grid_template_columns": null,
            "flex": null,
            "_model_name": "LayoutModel",
            "justify_items": null,
            "grid_row": null,
            "max_height": null,
            "align_content": null,
            "visibility": null,
            "align_self": null,
            "height": null,
            "min_height": null,
            "padding": null,
            "grid_auto_rows": null,
            "grid_gap": null,
            "max_width": null,
            "order": null,
            "_view_module_version": "1.2.0",
            "grid_template_areas": null,
            "object_position": null,
            "object_fit": null,
            "grid_auto_columns": null,
            "margin": null,
            "display": null,
            "left": null
          }
        },
        "c13ac9547c534102b960e56388b97825": {
          "model_module": "@jupyter-widgets/controls",
          "model_name": "DescriptionStyleModel",
          "state": {
            "_view_name": "StyleView",
            "_model_name": "DescriptionStyleModel",
            "description_width": "",
            "_view_module": "@jupyter-widgets/base",
            "_model_module_version": "1.5.0",
            "_view_count": null,
            "_view_module_version": "1.2.0",
            "_model_module": "@jupyter-widgets/controls"
          }
        },
        "78550a9444aa483cab34e80a56017635": {
          "model_module": "@jupyter-widgets/base",
          "model_name": "LayoutModel",
          "state": {
            "_view_name": "LayoutView",
            "grid_template_rows": null,
            "right": null,
            "justify_content": null,
            "_view_module": "@jupyter-widgets/base",
            "overflow": null,
            "_model_module_version": "1.2.0",
            "_view_count": null,
            "flex_flow": null,
            "width": null,
            "min_width": null,
            "border": null,
            "align_items": null,
            "bottom": null,
            "_model_module": "@jupyter-widgets/base",
            "top": null,
            "grid_column": null,
            "overflow_y": null,
            "overflow_x": null,
            "grid_auto_flow": null,
            "grid_area": null,
            "grid_template_columns": null,
            "flex": null,
            "_model_name": "LayoutModel",
            "justify_items": null,
            "grid_row": null,
            "max_height": null,
            "align_content": null,
            "visibility": null,
            "align_self": null,
            "height": null,
            "min_height": null,
            "padding": null,
            "grid_auto_rows": null,
            "grid_gap": null,
            "max_width": null,
            "order": null,
            "_view_module_version": "1.2.0",
            "grid_template_areas": null,
            "object_position": null,
            "object_fit": null,
            "grid_auto_columns": null,
            "margin": null,
            "display": null,
            "left": null
          }
        }
      }
    }
  },
  "cells": [
    {
      "cell_type": "markdown",
      "metadata": {
        "id": "view-in-github",
        "colab_type": "text"
      },
      "source": [
        "<a href=\"https://colab.research.google.com/github/jlingohr/riiid/blob/main/riiid_splits.ipynb\" target=\"_parent\"><img src=\"https://colab.research.google.com/assets/colab-badge.svg\" alt=\"Open In Colab\"/></a>"
      ]
    },
    {
      "cell_type": "code",
      "metadata": {
        "id": "VPQz_UqKJtCW"
      },
      "source": [
        "from google.colab import files\n",
        "from google.colab import drive\n",
        "import os\n",
        "\n",
        "import pandas as pd\n",
        "import numpy as np\n",
        "import random\n",
        "from sklearn.model_selection import train_test_split\n",
        "from tqdm import tqdm_notebook as tqdm\n",
        "from pyarrow import feather \n"
      ],
      "execution_count": null,
      "outputs": []
    },
    {
      "cell_type": "code",
      "metadata": {
        "colab": {
          "base_uri": "https://localhost:8080/"
        },
        "id": "au14xaecJerO",
        "outputId": "51e93331-f9fc-43ec-bcf6-59cc0432e03d"
      },
      "source": [
        "drive.mount('/content/gdrive')"
      ],
      "execution_count": null,
      "outputs": [
        {
          "output_type": "stream",
          "text": [
            "Mounted at /content/gdrive\n"
          ],
          "name": "stdout"
        }
      ]
    },
    {
      "cell_type": "code",
      "metadata": {
        "id": "DnOqrfITMTJ4"
      },
      "source": [
        "os.environ['KAGGLE_CONFIG_DIR'] = \"/content/gdrive/My Drive/kaggle\""
      ],
      "execution_count": null,
      "outputs": []
    },
    {
      "cell_type": "code",
      "metadata": {
        "colab": {
          "base_uri": "https://localhost:8080/"
        },
        "id": "xXdo8LsrMdoU",
        "outputId": "6a201065-c88c-4813-98e9-05d34231b873"
      },
      "source": [
        "%cd /content/gdrive/My Drive/kaggle/riiid/\n",
        "!pwd"
      ],
      "execution_count": null,
      "outputs": [
        {
          "output_type": "stream",
          "text": [
            "/content/gdrive/My Drive/kaggle/riiid\n",
            "/content/gdrive/My Drive/kaggle/riiid\n"
          ],
          "name": "stdout"
        }
      ]
    },
    {
      "cell_type": "code",
      "metadata": {
        "id": "cdR-y13AM5WW"
      },
      "source": [
        "random.seed(1234)\n",
        "np.random.seed(1234)"
      ],
      "execution_count": null,
      "outputs": []
    },
    {
      "cell_type": "markdown",
      "metadata": {
        "id": "Vir-imIMSKlP"
      },
      "source": [
        "## First save file to feather format"
      ]
    },
    {
      "cell_type": "code",
      "metadata": {
        "colab": {
          "base_uri": "https://localhost:8080/"
        },
        "id": "lWrnty3-PHuU",
        "outputId": "01d7c4ef-d5d1-482f-e689-5a451ac8d2ee"
      },
      "source": [
        "%%time\n",
        "\n",
        "dtypes = {\n",
        "    \"row_id\": \"int64\",\n",
        "    \"timestamp\": \"int64\",\n",
        "    \"user_id\": \"int32\",\n",
        "    \"content_id\": \"int16\",\n",
        "    \"content_type_id\": \"boolean\",\n",
        "    \"task_container_id\": \"int16\",\n",
        "    \"user_answer\": \"int8\",\n",
        "    \"answered_correctly\": \"int8\",\n",
        "    \"prior_question_elapsed_time\": \"float32\", \n",
        "    \"prior_question_had_explanation\": \"boolean\"\n",
        "}\n",
        "\n",
        "\n",
        "\n",
        "data = pd.read_feather(\"data/no_lectures/train.feather\")\n",
        "# Filter out lectures\n",
        "data = data[data.content_type_id == False]\n",
        "data.reset_index(drop=True, inplace=True)\n",
        "data['row_id'] = data.index\n",
        "\n",
        "print(\"Train size:\", data.shape)"
      ],
      "execution_count": null,
      "outputs": [
        {
          "output_type": "stream",
          "text": [
            "Train size: (99270702, 10)\n",
            "CPU times: user 6.77 s, sys: 3.99 s, total: 10.8 s\n",
            "Wall time: 24.8 s\n"
          ],
          "name": "stdout"
        }
      ]
    },
    {
      "cell_type": "code",
      "metadata": {
        "colab": {
          "base_uri": "https://localhost:8080/",
          "height": 224
        },
        "id": "jSKKHRLEhf8E",
        "outputId": "029176de-76f1-4463-b736-d89b82ce43a2"
      },
      "source": [
        "data.head()"
      ],
      "execution_count": null,
      "outputs": [
        {
          "output_type": "execute_result",
          "data": {
            "text/html": [
              "<div>\n",
              "<style scoped>\n",
              "    .dataframe tbody tr th:only-of-type {\n",
              "        vertical-align: middle;\n",
              "    }\n",
              "\n",
              "    .dataframe tbody tr th {\n",
              "        vertical-align: top;\n",
              "    }\n",
              "\n",
              "    .dataframe thead th {\n",
              "        text-align: right;\n",
              "    }\n",
              "</style>\n",
              "<table border=\"1\" class=\"dataframe\">\n",
              "  <thead>\n",
              "    <tr style=\"text-align: right;\">\n",
              "      <th></th>\n",
              "      <th>row_id</th>\n",
              "      <th>timestamp</th>\n",
              "      <th>user_id</th>\n",
              "      <th>content_id</th>\n",
              "      <th>content_type_id</th>\n",
              "      <th>task_container_id</th>\n",
              "      <th>user_answer</th>\n",
              "      <th>answered_correctly</th>\n",
              "      <th>prior_question_elapsed_time</th>\n",
              "      <th>prior_question_had_explanation</th>\n",
              "    </tr>\n",
              "  </thead>\n",
              "  <tbody>\n",
              "    <tr>\n",
              "      <th>0</th>\n",
              "      <td>0</td>\n",
              "      <td>0</td>\n",
              "      <td>115</td>\n",
              "      <td>5692</td>\n",
              "      <td>False</td>\n",
              "      <td>1</td>\n",
              "      <td>3</td>\n",
              "      <td>1</td>\n",
              "      <td>NaN</td>\n",
              "      <td>None</td>\n",
              "    </tr>\n",
              "    <tr>\n",
              "      <th>1</th>\n",
              "      <td>1</td>\n",
              "      <td>56943</td>\n",
              "      <td>115</td>\n",
              "      <td>5716</td>\n",
              "      <td>False</td>\n",
              "      <td>2</td>\n",
              "      <td>2</td>\n",
              "      <td>1</td>\n",
              "      <td>37000.0</td>\n",
              "      <td>False</td>\n",
              "    </tr>\n",
              "    <tr>\n",
              "      <th>2</th>\n",
              "      <td>2</td>\n",
              "      <td>118363</td>\n",
              "      <td>115</td>\n",
              "      <td>128</td>\n",
              "      <td>False</td>\n",
              "      <td>0</td>\n",
              "      <td>0</td>\n",
              "      <td>1</td>\n",
              "      <td>55000.0</td>\n",
              "      <td>False</td>\n",
              "    </tr>\n",
              "    <tr>\n",
              "      <th>3</th>\n",
              "      <td>3</td>\n",
              "      <td>131167</td>\n",
              "      <td>115</td>\n",
              "      <td>7860</td>\n",
              "      <td>False</td>\n",
              "      <td>3</td>\n",
              "      <td>0</td>\n",
              "      <td>1</td>\n",
              "      <td>19000.0</td>\n",
              "      <td>False</td>\n",
              "    </tr>\n",
              "    <tr>\n",
              "      <th>4</th>\n",
              "      <td>4</td>\n",
              "      <td>137965</td>\n",
              "      <td>115</td>\n",
              "      <td>7922</td>\n",
              "      <td>False</td>\n",
              "      <td>4</td>\n",
              "      <td>1</td>\n",
              "      <td>1</td>\n",
              "      <td>11000.0</td>\n",
              "      <td>False</td>\n",
              "    </tr>\n",
              "  </tbody>\n",
              "</table>\n",
              "</div>"
            ],
            "text/plain": [
              "   row_id  ...  prior_question_had_explanation\n",
              "0       0  ...                            None\n",
              "1       1  ...                           False\n",
              "2       2  ...                           False\n",
              "3       3  ...                           False\n",
              "4       4  ...                           False\n",
              "\n",
              "[5 rows x 10 columns]"
            ]
          },
          "metadata": {
            "tags": []
          },
          "execution_count": 7
        }
      ]
    },
    {
      "cell_type": "code",
      "metadata": {
        "id": "0GxRmvq0Qu0j"
      },
      "source": [
        "usecols = [\n",
        "    'row_id',\n",
        "    'user_id',\n",
        "    'content_id'\n",
        "]\n",
        "data = data.loc[:, usecols]\n"
      ],
      "execution_count": null,
      "outputs": []
    },
    {
      "cell_type": "code",
      "metadata": {
        "colab": {
          "base_uri": "https://localhost:8080/",
          "height": 204
        },
        "id": "k8iVwWLcSfn2",
        "outputId": "2eed0d74-3d8a-43e3-de86-e04ab3842f5f"
      },
      "source": [
        "data.head()"
      ],
      "execution_count": null,
      "outputs": [
        {
          "output_type": "execute_result",
          "data": {
            "text/html": [
              "<div>\n",
              "<style scoped>\n",
              "    .dataframe tbody tr th:only-of-type {\n",
              "        vertical-align: middle;\n",
              "    }\n",
              "\n",
              "    .dataframe tbody tr th {\n",
              "        vertical-align: top;\n",
              "    }\n",
              "\n",
              "    .dataframe thead th {\n",
              "        text-align: right;\n",
              "    }\n",
              "</style>\n",
              "<table border=\"1\" class=\"dataframe\">\n",
              "  <thead>\n",
              "    <tr style=\"text-align: right;\">\n",
              "      <th></th>\n",
              "      <th>row_id</th>\n",
              "      <th>user_id</th>\n",
              "      <th>content_id</th>\n",
              "    </tr>\n",
              "  </thead>\n",
              "  <tbody>\n",
              "    <tr>\n",
              "      <th>0</th>\n",
              "      <td>0</td>\n",
              "      <td>115</td>\n",
              "      <td>5692</td>\n",
              "    </tr>\n",
              "    <tr>\n",
              "      <th>1</th>\n",
              "      <td>1</td>\n",
              "      <td>115</td>\n",
              "      <td>5716</td>\n",
              "    </tr>\n",
              "    <tr>\n",
              "      <th>2</th>\n",
              "      <td>2</td>\n",
              "      <td>115</td>\n",
              "      <td>128</td>\n",
              "    </tr>\n",
              "    <tr>\n",
              "      <th>3</th>\n",
              "      <td>3</td>\n",
              "      <td>115</td>\n",
              "      <td>7860</td>\n",
              "    </tr>\n",
              "    <tr>\n",
              "      <th>4</th>\n",
              "      <td>4</td>\n",
              "      <td>115</td>\n",
              "      <td>7922</td>\n",
              "    </tr>\n",
              "  </tbody>\n",
              "</table>\n",
              "</div>"
            ],
            "text/plain": [
              "   row_id  user_id  content_id\n",
              "0       0      115        5692\n",
              "1       1      115        5716\n",
              "2       2      115         128\n",
              "3       3      115        7860\n",
              "4       4      115        7922"
            ]
          },
          "metadata": {
            "tags": []
          },
          "execution_count": 9
        }
      ]
    },
    {
      "cell_type": "markdown",
      "metadata": {
        "id": "8kIOvcFtPUUw"
      },
      "source": [
        "### Look at distribution of questions"
      ]
    },
    {
      "cell_type": "code",
      "metadata": {
        "colab": {
          "base_uri": "https://localhost:8080/"
        },
        "id": "VWg7THlOPW_C",
        "outputId": "c47c757f-f12a-4a44-ec7e-1f9fd19f3936"
      },
      "source": [
        "data.content_id.value_counts().sort_values(ascending=True).head(20)"
      ],
      "execution_count": null,
      "outputs": [
        {
          "output_type": "execute_result",
          "data": {
            "text/plain": [
              "1486      1\n",
              "5823      1\n",
              "10033     1\n",
              "1485      1\n",
              "10008     1\n",
              "10005     1\n",
              "10007     1\n",
              "1484      1\n",
              "10006     1\n",
              "3557      3\n",
              "3572      5\n",
              "7547     11\n",
              "7548     11\n",
              "7549     11\n",
              "7546     11\n",
              "7550     12\n",
              "7567     14\n",
              "7566     14\n",
              "7568     15\n",
              "4741     18\n",
              "Name: content_id, dtype: int64"
            ]
          },
          "metadata": {
            "tags": []
          },
          "execution_count": 10
        }
      ]
    },
    {
      "cell_type": "markdown",
      "metadata": {
        "id": "nuCt5q4IQhGq"
      },
      "source": [
        "There are 9 questions that appear once in the entire dataset and 10 questions that appear less than 5 times. We need to make sure that these questions are trained in in *every* fold so that when they appear in test we can correrctly embed them. To make sure they appear bn all folds we can\n",
        "1. For each user with that unique id just use all there rows\n",
        "2. For each user with that id make sure that the smallest fold extends to at least that question timestamp"
      ]
    },
    {
      "cell_type": "code",
      "metadata": {
        "colab": {
          "base_uri": "https://localhost:8080/"
        },
        "id": "O3frkpNZP8IS",
        "outputId": "7a209de3-216b-4183-a260-c7426d640c96"
      },
      "source": [
        "target_questions = data.content_id.value_counts().sort_values(ascending=True)\n",
        "target_questions = target_questions[target_questions < 5].index.to_list()\n",
        "target_questions"
      ],
      "execution_count": null,
      "outputs": [
        {
          "output_type": "execute_result",
          "data": {
            "text/plain": [
              "[1486, 5823, 10033, 1485, 10008, 10005, 10007, 1484, 10006, 3557]"
            ]
          },
          "metadata": {
            "tags": []
          },
          "execution_count": 11
        }
      ]
    },
    {
      "cell_type": "code",
      "metadata": {
        "colab": {
          "base_uri": "https://localhost:8080/",
          "height": 421
        },
        "id": "VSKyNvT9RjQs",
        "outputId": "640cde65-ea87-47ea-e6e9-d43de1725088"
      },
      "source": [
        "user_ids_with_target_questions = data[data.content_id.isin(target_questions)]\n",
        "user_ids_with_target_questions"
      ],
      "execution_count": null,
      "outputs": [
        {
          "output_type": "execute_result",
          "data": {
            "text/html": [
              "<div>\n",
              "<style scoped>\n",
              "    .dataframe tbody tr th:only-of-type {\n",
              "        vertical-align: middle;\n",
              "    }\n",
              "\n",
              "    .dataframe tbody tr th {\n",
              "        vertical-align: top;\n",
              "    }\n",
              "\n",
              "    .dataframe thead th {\n",
              "        text-align: right;\n",
              "    }\n",
              "</style>\n",
              "<table border=\"1\" class=\"dataframe\">\n",
              "  <thead>\n",
              "    <tr style=\"text-align: right;\">\n",
              "      <th></th>\n",
              "      <th>row_id</th>\n",
              "      <th>user_id</th>\n",
              "      <th>content_id</th>\n",
              "    </tr>\n",
              "  </thead>\n",
              "  <tbody>\n",
              "    <tr>\n",
              "      <th>15715993</th>\n",
              "      <td>15715993</td>\n",
              "      <td>343784114</td>\n",
              "      <td>3557</td>\n",
              "    </tr>\n",
              "    <tr>\n",
              "      <th>15716248</th>\n",
              "      <td>15716248</td>\n",
              "      <td>343784114</td>\n",
              "      <td>1485</td>\n",
              "    </tr>\n",
              "    <tr>\n",
              "      <th>15716249</th>\n",
              "      <td>15716249</td>\n",
              "      <td>343784114</td>\n",
              "      <td>1486</td>\n",
              "    </tr>\n",
              "    <tr>\n",
              "      <th>15716250</th>\n",
              "      <td>15716250</td>\n",
              "      <td>343784114</td>\n",
              "      <td>1484</td>\n",
              "    </tr>\n",
              "    <tr>\n",
              "      <th>61536271</th>\n",
              "      <td>61536271</td>\n",
              "      <td>1333688829</td>\n",
              "      <td>10033</td>\n",
              "    </tr>\n",
              "    <tr>\n",
              "      <th>72695488</th>\n",
              "      <td>72695488</td>\n",
              "      <td>1576785630</td>\n",
              "      <td>3557</td>\n",
              "    </tr>\n",
              "    <tr>\n",
              "      <th>87529236</th>\n",
              "      <td>87529236</td>\n",
              "      <td>1896513376</td>\n",
              "      <td>3557</td>\n",
              "    </tr>\n",
              "    <tr>\n",
              "      <th>87529237</th>\n",
              "      <td>87529237</td>\n",
              "      <td>1896513376</td>\n",
              "      <td>5823</td>\n",
              "    </tr>\n",
              "    <tr>\n",
              "      <th>95688100</th>\n",
              "      <td>95688100</td>\n",
              "      <td>2070144393</td>\n",
              "      <td>10008</td>\n",
              "    </tr>\n",
              "    <tr>\n",
              "      <th>95688101</th>\n",
              "      <td>95688101</td>\n",
              "      <td>2070144393</td>\n",
              "      <td>10007</td>\n",
              "    </tr>\n",
              "    <tr>\n",
              "      <th>95688102</th>\n",
              "      <td>95688102</td>\n",
              "      <td>2070144393</td>\n",
              "      <td>10006</td>\n",
              "    </tr>\n",
              "    <tr>\n",
              "      <th>95688103</th>\n",
              "      <td>95688103</td>\n",
              "      <td>2070144393</td>\n",
              "      <td>10005</td>\n",
              "    </tr>\n",
              "  </tbody>\n",
              "</table>\n",
              "</div>"
            ],
            "text/plain": [
              "            row_id     user_id  content_id\n",
              "15715993  15715993   343784114        3557\n",
              "15716248  15716248   343784114        1485\n",
              "15716249  15716249   343784114        1486\n",
              "15716250  15716250   343784114        1484\n",
              "61536271  61536271  1333688829       10033\n",
              "72695488  72695488  1576785630        3557\n",
              "87529236  87529236  1896513376        3557\n",
              "87529237  87529237  1896513376        5823\n",
              "95688100  95688100  2070144393       10008\n",
              "95688101  95688101  2070144393       10007\n",
              "95688102  95688102  2070144393       10006\n",
              "95688103  95688103  2070144393       10005"
            ]
          },
          "metadata": {
            "tags": []
          },
          "execution_count": 12
        }
      ]
    },
    {
      "cell_type": "markdown",
      "metadata": {
        "id": "jKIvWZ7ZSp0d"
      },
      "source": [
        "So there are 5 users who are the sole user who came across some specific question. "
      ]
    },
    {
      "cell_type": "code",
      "metadata": {
        "colab": {
          "base_uri": "https://localhost:8080/"
        },
        "id": "x9WhS8RTSBG8",
        "outputId": "41bc5b63-dfcb-4406-a46d-6bcfb5c50041"
      },
      "source": [
        "# Get highest row id for question for each user\n",
        "last_question_row_id = user_ids_with_target_questions.groupby(['user_id']).row_id.max()\n",
        "last_question_row_id"
      ],
      "execution_count": null,
      "outputs": [
        {
          "output_type": "execute_result",
          "data": {
            "text/plain": [
              "user_id\n",
              "343784114     15716250\n",
              "1333688829    61536271\n",
              "1576785630    72695488\n",
              "1896513376    87529237\n",
              "2070144393    95688103\n",
              "Name: row_id, dtype: int64"
            ]
          },
          "metadata": {
            "tags": []
          },
          "execution_count": 13
        }
      ]
    },
    {
      "cell_type": "code",
      "metadata": {
        "colab": {
          "base_uri": "https://localhost:8080/",
          "height": 419
        },
        "id": "oEEBd1Z9TJEO",
        "outputId": "1c3c5da1-8491-499c-cad9-199aa8a10fdb"
      },
      "source": [
        "users_with_target_questions = data[data.user_id.isin(user_ids_with_target_questions.user_id.unique())]\n",
        "users_with_target_questions"
      ],
      "execution_count": null,
      "outputs": [
        {
          "output_type": "execute_result",
          "data": {
            "text/html": [
              "<div>\n",
              "<style scoped>\n",
              "    .dataframe tbody tr th:only-of-type {\n",
              "        vertical-align: middle;\n",
              "    }\n",
              "\n",
              "    .dataframe tbody tr th {\n",
              "        vertical-align: top;\n",
              "    }\n",
              "\n",
              "    .dataframe thead th {\n",
              "        text-align: right;\n",
              "    }\n",
              "</style>\n",
              "<table border=\"1\" class=\"dataframe\">\n",
              "  <thead>\n",
              "    <tr style=\"text-align: right;\">\n",
              "      <th></th>\n",
              "      <th>row_id</th>\n",
              "      <th>user_id</th>\n",
              "      <th>content_id</th>\n",
              "    </tr>\n",
              "  </thead>\n",
              "  <tbody>\n",
              "    <tr>\n",
              "      <th>15708825</th>\n",
              "      <td>15708825</td>\n",
              "      <td>343784114</td>\n",
              "      <td>128</td>\n",
              "    </tr>\n",
              "    <tr>\n",
              "      <th>15708826</th>\n",
              "      <td>15708826</td>\n",
              "      <td>343784114</td>\n",
              "      <td>7860</td>\n",
              "    </tr>\n",
              "    <tr>\n",
              "      <th>15708827</th>\n",
              "      <td>15708827</td>\n",
              "      <td>343784114</td>\n",
              "      <td>7922</td>\n",
              "    </tr>\n",
              "    <tr>\n",
              "      <th>15708828</th>\n",
              "      <td>15708828</td>\n",
              "      <td>343784114</td>\n",
              "      <td>156</td>\n",
              "    </tr>\n",
              "    <tr>\n",
              "      <th>15708829</th>\n",
              "      <td>15708829</td>\n",
              "      <td>343784114</td>\n",
              "      <td>51</td>\n",
              "    </tr>\n",
              "    <tr>\n",
              "      <th>...</th>\n",
              "      <td>...</td>\n",
              "      <td>...</td>\n",
              "      <td>...</td>\n",
              "    </tr>\n",
              "    <tr>\n",
              "      <th>95688146</th>\n",
              "      <td>95688146</td>\n",
              "      <td>2070144393</td>\n",
              "      <td>4441</td>\n",
              "    </tr>\n",
              "    <tr>\n",
              "      <th>95688147</th>\n",
              "      <td>95688147</td>\n",
              "      <td>2070144393</td>\n",
              "      <td>6196</td>\n",
              "    </tr>\n",
              "    <tr>\n",
              "      <th>95688148</th>\n",
              "      <td>95688148</td>\n",
              "      <td>2070144393</td>\n",
              "      <td>9194</td>\n",
              "    </tr>\n",
              "    <tr>\n",
              "      <th>95688149</th>\n",
              "      <td>95688149</td>\n",
              "      <td>2070144393</td>\n",
              "      <td>5560</td>\n",
              "    </tr>\n",
              "    <tr>\n",
              "      <th>95688150</th>\n",
              "      <td>95688150</td>\n",
              "      <td>2070144393</td>\n",
              "      <td>3573</td>\n",
              "    </tr>\n",
              "  </tbody>\n",
              "</table>\n",
              "<p>26118 rows × 3 columns</p>\n",
              "</div>"
            ],
            "text/plain": [
              "            row_id     user_id  content_id\n",
              "15708825  15708825   343784114         128\n",
              "15708826  15708826   343784114        7860\n",
              "15708827  15708827   343784114        7922\n",
              "15708828  15708828   343784114         156\n",
              "15708829  15708829   343784114          51\n",
              "...            ...         ...         ...\n",
              "95688146  95688146  2070144393        4441\n",
              "95688147  95688147  2070144393        6196\n",
              "95688148  95688148  2070144393        9194\n",
              "95688149  95688149  2070144393        5560\n",
              "95688150  95688150  2070144393        3573\n",
              "\n",
              "[26118 rows x 3 columns]"
            ]
          },
          "metadata": {
            "tags": []
          },
          "execution_count": 14
        }
      ]
    },
    {
      "cell_type": "code",
      "metadata": {
        "id": "vCCIhMedbntE",
        "colab": {
          "base_uri": "https://localhost:8080/"
        },
        "outputId": "52263f03-d9d8-43d4-dc57-b3230aabe842"
      },
      "source": [
        "row_min, row_max = users_with_target_questions.groupby(['user_id']).row_id.min(), users_with_target_questions.groupby(['user_id']).row_id.max()\n",
        "print(row_min)\n",
        "print(row_max)"
      ],
      "execution_count": null,
      "outputs": [
        {
          "output_type": "stream",
          "text": [
            "user_id\n",
            "343784114     15708825\n",
            "1333688829    61533590\n",
            "1576785630    72691190\n",
            "1896513376    87524303\n",
            "2070144393    95686414\n",
            "Name: row_id, dtype: int64\n",
            "user_id\n",
            "343784114     15717301\n",
            "1333688829    61538672\n",
            "1576785630    72696741\n",
            "1896513376    87529571\n",
            "2070144393    95688150\n",
            "Name: row_id, dtype: int64\n"
          ],
          "name": "stdout"
        }
      ]
    },
    {
      "cell_type": "markdown",
      "metadata": {
        "id": "g8kxsOv7bctW"
      },
      "source": [
        "Since some of the questions appear only at the end of these users' sequences, naive way to split would be for these users, train on all their rows and don't both with splitting as we did earlier."
      ]
    },
    {
      "cell_type": "code",
      "metadata": {
        "id": "Ep_qqJKTb92E",
        "colab": {
          "base_uri": "https://localhost:8080/"
        },
        "outputId": "307b36d5-cfe3-40d6-a331-ff35bd1af6bc"
      },
      "source": [
        "# If last_question_row_id is over 70th percentile of the users series, take some series expanding past it (i.e. whole series). Otherwise can\n",
        "# treat as normal\n",
        "\n",
        "(last_question_row_id - row_min) / (row_max - row_min)"
      ],
      "execution_count": null,
      "outputs": [
        {
          "output_type": "execute_result",
          "data": {
            "text/plain": [
              "user_id\n",
              "343784114     0.876003\n",
              "1333688829    0.527548\n",
              "1576785630    0.774275\n",
              "1896513376    0.936598\n",
              "2070144393    0.972926\n",
              "Name: row_id, dtype: float64"
            ]
          },
          "metadata": {
            "tags": []
          },
          "execution_count": 16
        }
      ]
    },
    {
      "cell_type": "markdown",
      "metadata": {
        "id": "BJG29LqGXKUk"
      },
      "source": [
        "can treat user id 1576785630 as normal because question 3557 is seen by two other users, both of whom have question later on that are not seen by others. We can also treat user 1333688829 as normal. The rest would be easiest to just take the whole sequence."
      ]
    },
    {
      "cell_type": "code",
      "metadata": {
        "colab": {
          "base_uri": "https://localhost:8080/",
          "height": 419
        },
        "id": "TLJ4NOy2dI2T",
        "outputId": "b5189680-14a4-4df9-ed81-d612b391e509"
      },
      "source": [
        "users_with_target_questions = users_with_target_questions[~users_with_target_questions.user_id.isin([1576785630, 1333688829])]\n",
        "users_with_target_questions"
      ],
      "execution_count": null,
      "outputs": [
        {
          "output_type": "execute_result",
          "data": {
            "text/html": [
              "<div>\n",
              "<style scoped>\n",
              "    .dataframe tbody tr th:only-of-type {\n",
              "        vertical-align: middle;\n",
              "    }\n",
              "\n",
              "    .dataframe tbody tr th {\n",
              "        vertical-align: top;\n",
              "    }\n",
              "\n",
              "    .dataframe thead th {\n",
              "        text-align: right;\n",
              "    }\n",
              "</style>\n",
              "<table border=\"1\" class=\"dataframe\">\n",
              "  <thead>\n",
              "    <tr style=\"text-align: right;\">\n",
              "      <th></th>\n",
              "      <th>row_id</th>\n",
              "      <th>user_id</th>\n",
              "      <th>content_id</th>\n",
              "    </tr>\n",
              "  </thead>\n",
              "  <tbody>\n",
              "    <tr>\n",
              "      <th>15708825</th>\n",
              "      <td>15708825</td>\n",
              "      <td>343784114</td>\n",
              "      <td>128</td>\n",
              "    </tr>\n",
              "    <tr>\n",
              "      <th>15708826</th>\n",
              "      <td>15708826</td>\n",
              "      <td>343784114</td>\n",
              "      <td>7860</td>\n",
              "    </tr>\n",
              "    <tr>\n",
              "      <th>15708827</th>\n",
              "      <td>15708827</td>\n",
              "      <td>343784114</td>\n",
              "      <td>7922</td>\n",
              "    </tr>\n",
              "    <tr>\n",
              "      <th>15708828</th>\n",
              "      <td>15708828</td>\n",
              "      <td>343784114</td>\n",
              "      <td>156</td>\n",
              "    </tr>\n",
              "    <tr>\n",
              "      <th>15708829</th>\n",
              "      <td>15708829</td>\n",
              "      <td>343784114</td>\n",
              "      <td>51</td>\n",
              "    </tr>\n",
              "    <tr>\n",
              "      <th>...</th>\n",
              "      <td>...</td>\n",
              "      <td>...</td>\n",
              "      <td>...</td>\n",
              "    </tr>\n",
              "    <tr>\n",
              "      <th>95688146</th>\n",
              "      <td>95688146</td>\n",
              "      <td>2070144393</td>\n",
              "      <td>4441</td>\n",
              "    </tr>\n",
              "    <tr>\n",
              "      <th>95688147</th>\n",
              "      <td>95688147</td>\n",
              "      <td>2070144393</td>\n",
              "      <td>6196</td>\n",
              "    </tr>\n",
              "    <tr>\n",
              "      <th>95688148</th>\n",
              "      <td>95688148</td>\n",
              "      <td>2070144393</td>\n",
              "      <td>9194</td>\n",
              "    </tr>\n",
              "    <tr>\n",
              "      <th>95688149</th>\n",
              "      <td>95688149</td>\n",
              "      <td>2070144393</td>\n",
              "      <td>5560</td>\n",
              "    </tr>\n",
              "    <tr>\n",
              "      <th>95688150</th>\n",
              "      <td>95688150</td>\n",
              "      <td>2070144393</td>\n",
              "      <td>3573</td>\n",
              "    </tr>\n",
              "  </tbody>\n",
              "</table>\n",
              "<p>15483 rows × 3 columns</p>\n",
              "</div>"
            ],
            "text/plain": [
              "            row_id     user_id  content_id\n",
              "15708825  15708825   343784114         128\n",
              "15708826  15708826   343784114        7860\n",
              "15708827  15708827   343784114        7922\n",
              "15708828  15708828   343784114         156\n",
              "15708829  15708829   343784114          51\n",
              "...            ...         ...         ...\n",
              "95688146  95688146  2070144393        4441\n",
              "95688147  95688147  2070144393        6196\n",
              "95688148  95688148  2070144393        9194\n",
              "95688149  95688149  2070144393        5560\n",
              "95688150  95688150  2070144393        3573\n",
              "\n",
              "[15483 rows x 3 columns]"
            ]
          },
          "metadata": {
            "tags": []
          },
          "execution_count": 17
        }
      ]
    },
    {
      "cell_type": "markdown",
      "metadata": {
        "id": "m2oASR1XShN8"
      },
      "source": [
        "## Splitting Strategy\n",
        "\n",
        "Typically we would want something like an 80-20 train-validation split, but in this competition doing so the typical way won't work. We want a validation set that contains users who have not been seen at training, but we don't know what percentage.\n",
        "\n",
        "I think it would be reasonable to do something like take 90% of users to be in train and the rest in validaiton. Then of those in the 90%, only use the first 0.7, 0.8, and 0.9 of their observations for training, and put the rest in validation. This way we get multiple folds and we get to see how the model improves with more data. \n",
        "\n",
        "**Alternatively**, would it be better to do something like compute the mean number of events per user and place a user in validation data if it falls outside of some distance from the mean? This way we test on users with very few and a lot of examples, but at the cost of not training on them.\n",
        "\n",
        "**Finally** we can calculate the proportion of unique ideas overall and since we know we are testing on 2.5 million examples, take that proportion for the number of new ideas (unseen during train). Then we can also create the batches such that if a user has a sequence longer than our max sequence, we partition their sequence into equal-sized sequences"
      ]
    },
    {
      "cell_type": "code",
      "metadata": {
        "colab": {
          "base_uri": "https://localhost:8080/"
        },
        "id": "pcWW35A7Sh8e",
        "outputId": "b922dd92-f9b3-40e2-b1d1-f7e18e559006"
      },
      "source": [
        "print(len(data))\n",
        "print(data.user_id.nunique())\n",
        "print(data.user_id.nunique() / len(data))"
      ],
      "execution_count": null,
      "outputs": [
        {
          "output_type": "stream",
          "text": [
            "99270702\n",
            "393401\n",
            "0.003962911433828684\n"
          ],
          "name": "stdout"
        }
      ]
    },
    {
      "cell_type": "code",
      "metadata": {
        "colab": {
          "base_uri": "https://localhost:8080/"
        },
        "id": "3TwSno9FcI-l",
        "outputId": "24195169-192f-433a-8742-e90a46f2c13c"
      },
      "source": [
        "keep_all_ids = user_ids_with_target_questions.user_id.unique().tolist()\n",
        "keep_all_ids = list(filter(lambda x: x not in [1576785630, 1333688829], keep_all_ids))\n",
        "keep_all_ids"
      ],
      "execution_count": null,
      "outputs": [
        {
          "output_type": "execute_result",
          "data": {
            "text/plain": [
              "[343784114, 1896513376, 2070144393]"
            ]
          },
          "metadata": {
            "tags": []
          },
          "execution_count": 19
        }
      ]
    },
    {
      "cell_type": "code",
      "metadata": {
        "colab": {
          "base_uri": "https://localhost:8080/"
        },
        "id": "OsDBklZMSkoD",
        "outputId": "d91ba44d-dafc-44dd-e7ef-e4bce5afaf9d"
      },
      "source": [
        "# Split on users IDs first\n",
        "user_ids = data.user_id.unique()\n",
        "user_ids = list(filter(lambda x: x not in keep_all_ids, user_ids))\n",
        "print(len(user_ids))\n",
        "train_ids, val_ids = train_test_split(user_ids, test_size=0.01)\n",
        "print(len(train_ids))\n",
        "print(len(val_ids))"
      ],
      "execution_count": null,
      "outputs": [
        {
          "output_type": "stream",
          "text": [
            "393398\n",
            "389464\n",
            "3934\n"
          ],
          "name": "stdout"
        }
      ]
    },
    {
      "cell_type": "code",
      "metadata": {
        "id": "15eCuaania2-"
      },
      "source": [
        "assert len(set(train_ids).intersection(val_ids)) == 0\n",
        "assert len(set(train_ids).intersection(keep_all_ids)) == 0"
      ],
      "execution_count": null,
      "outputs": []
    },
    {
      "cell_type": "code",
      "metadata": {
        "id": "axnnsMQ1SnBS"
      },
      "source": [
        "# save users who only appear in val set\n",
        "pd.DataFrame({'user_id': val_ids}).sort_values(by='user_id').reset_index(drop=True).to_feather('data/val_unseen_users.feather')"
      ],
      "execution_count": null,
      "outputs": []
    },
    {
      "cell_type": "code",
      "metadata": {
        "colab": {
          "base_uri": "https://localhost:8080/"
        },
        "id": "nCUole3RSoPP",
        "outputId": "7c1218d4-d22f-473a-f008-3c3d389b13a2"
      },
      "source": [
        "# split into train and val where val contains users that are not in train\n",
        "# Then we have to further partition the rows of train\n",
        "train, val = data[data.user_id.isin(train_ids)], data[data.user_id.isin(val_ids)]\n",
        "print(train.shape)\n",
        "print(val.shape)\n",
        "print(\"Got \", len(train) + len(val), \" rows, expected \", len(data))"
      ],
      "execution_count": null,
      "outputs": [
        {
          "output_type": "stream",
          "text": [
            "(98265538, 3)\n",
            "(989681, 3)\n",
            "Got  99255219  rows, expected  99270702\n"
          ],
          "name": "stdout"
        }
      ]
    },
    {
      "cell_type": "code",
      "metadata": {
        "colab": {
          "base_uri": "https://localhost:8080/"
        },
        "id": "Funy6K8pkPKK",
        "outputId": "32f10099-9f48-496b-dc3d-55b45b646d21"
      },
      "source": [
        "train.user_id.isin(val.user_id).value_counts() # Should be all false"
      ],
      "execution_count": null,
      "outputs": [
        {
          "output_type": "execute_result",
          "data": {
            "text/plain": [
              "False    98265538\n",
              "Name: user_id, dtype: int64"
            ]
          },
          "metadata": {
            "tags": []
          },
          "execution_count": 25
        }
      ]
    },
    {
      "cell_type": "code",
      "metadata": {
        "id": "i72L7YTfSpi0"
      },
      "source": [
        "# assert len(train) + len(val) == len(data)"
      ],
      "execution_count": null,
      "outputs": []
    },
    {
      "cell_type": "code",
      "metadata": {
        "id": "hnriyXiBkkYK"
      },
      "source": [
        "assert (train.index == train.row_id).sum() == len(train)"
      ],
      "execution_count": null,
      "outputs": []
    },
    {
      "cell_type": "code",
      "metadata": {
        "id": "uxntkzhpoT3l"
      },
      "source": [
        "assert (val.index == val.row_id).sum() == len(val)"
      ],
      "execution_count": null,
      "outputs": []
    },
    {
      "cell_type": "code",
      "metadata": {
        "id": "Cbi5NJMZunV4",
        "colab": {
          "base_uri": "https://localhost:8080/",
          "height": 204
        },
        "outputId": "aaf81543-937a-45d4-b7de-57d743b2a0a8"
      },
      "source": [
        "val.head()"
      ],
      "execution_count": null,
      "outputs": [
        {
          "output_type": "execute_result",
          "data": {
            "text/html": [
              "<div>\n",
              "<style scoped>\n",
              "    .dataframe tbody tr th:only-of-type {\n",
              "        vertical-align: middle;\n",
              "    }\n",
              "\n",
              "    .dataframe tbody tr th {\n",
              "        vertical-align: top;\n",
              "    }\n",
              "\n",
              "    .dataframe thead th {\n",
              "        text-align: right;\n",
              "    }\n",
              "</style>\n",
              "<table border=\"1\" class=\"dataframe\">\n",
              "  <thead>\n",
              "    <tr style=\"text-align: right;\">\n",
              "      <th></th>\n",
              "      <th>row_id</th>\n",
              "      <th>user_id</th>\n",
              "      <th>content_id</th>\n",
              "    </tr>\n",
              "  </thead>\n",
              "  <tbody>\n",
              "    <tr>\n",
              "      <th>34043</th>\n",
              "      <td>34043</td>\n",
              "      <td>952772</td>\n",
              "      <td>7900</td>\n",
              "    </tr>\n",
              "    <tr>\n",
              "      <th>34044</th>\n",
              "      <td>34044</td>\n",
              "      <td>952772</td>\n",
              "      <td>7876</td>\n",
              "    </tr>\n",
              "    <tr>\n",
              "      <th>34045</th>\n",
              "      <td>34045</td>\n",
              "      <td>952772</td>\n",
              "      <td>175</td>\n",
              "    </tr>\n",
              "    <tr>\n",
              "      <th>34046</th>\n",
              "      <td>34046</td>\n",
              "      <td>952772</td>\n",
              "      <td>1278</td>\n",
              "    </tr>\n",
              "    <tr>\n",
              "      <th>34047</th>\n",
              "      <td>34047</td>\n",
              "      <td>952772</td>\n",
              "      <td>2064</td>\n",
              "    </tr>\n",
              "  </tbody>\n",
              "</table>\n",
              "</div>"
            ],
            "text/plain": [
              "       row_id  user_id  content_id\n",
              "34043   34043   952772        7900\n",
              "34044   34044   952772        7876\n",
              "34045   34045   952772         175\n",
              "34046   34046   952772        1278\n",
              "34047   34047   952772        2064"
            ]
          },
          "metadata": {
            "tags": []
          },
          "execution_count": 29
        }
      ]
    },
    {
      "cell_type": "code",
      "metadata": {
        "id": "sJoDniRAtFiK"
      },
      "source": [
        "FOLD_PERCENTILES = {0: 0.85, 1: 0.9, 2: 0.95}\n",
        "\n",
        "def create_fold(train_df, val_df, train_all_df, fold_idx):\n",
        "    grouped = train_df.groupby(['user_id'])\n",
        "    row_id_min = grouped.row_id.min()\n",
        "    row_id_max = grouped.row_id.max()\n",
        "\n",
        "    train_row_ids, val_row_ids = [], []\n",
        "\n",
        "    for row_min, row_max in tqdm(zip(row_id_min, row_id_max)):\n",
        "        row_ids = np.arange(row_min, row_max+1).tolist()\n",
        "        length = len(row_ids)\n",
        "        \n",
        "        if length < 10:\n",
        "            train_row_ids += row_ids\n",
        "        else:\n",
        "            train_row_ids += row_ids[:int(FOLD_PERCENTILES[fold_idx] * length)]\n",
        "            val_row_ids += row_ids[int(FOLD_PERCENTILES[fold_idx] * length):]\n",
        "\n",
        "    # Add row indices from users seen only in validation\n",
        "    val_row_ids += val_df.row_id.tolist()\n",
        "    train_row_ids += train_all_df.row_id.tolist()\n",
        "    print('Expect {} rows'.format(len(data)))\n",
        "    print(\"Found {} rows. {} train and {} val\".format(len(train_row_ids) + len(val_row_ids), len(train_row_ids), len(val_row_ids)))\n",
        "        \n",
        "    return train_row_ids, val_row_ids\n",
        "\n"
      ],
      "execution_count": null,
      "outputs": []
    },
    {
      "cell_type": "code",
      "metadata": {
        "colab": {
          "base_uri": "https://localhost:8080/",
          "height": 151,
          "referenced_widgets": [
            "1b5528fd897542acbb1ec01f98e2c9fb",
            "2db399ffaa17429d9e0a438ceca32de4",
            "dd05976153424e39bddeacd1cb809662",
            "878ff9c2065d440f8c7c494c17f4f55d",
            "0b97187de5fe4a379412d0b8c9ccd15a",
            "cff106025b1046fc968dd483f7ad4c6d",
            "22b1ca4d8f4e4213b3809fc20d257c51",
            "35cda3503e914678983a23c82fb45afe"
          ]
        },
        "id": "yXC-sUn1wo2W",
        "outputId": "c2499866-aefd-4f25-fa65-b9afed254d2c"
      },
      "source": [
        "train_row_ids, val_row_ids = create_fold(train, val, users_with_target_questions, 0)\n",
        "assert len(set(train_row_ids).intersection(val_row_ids)) == 0\n",
        "pd.DataFrame({'row_id': train_row_ids}).to_feather('data/no_lectures/fold_0/train_rows.feather')\n",
        "pd.DataFrame({'row_id': val_row_ids}).to_feather('data/no_lectures/fold_0/val_rows.feather')"
      ],
      "execution_count": null,
      "outputs": [
        {
          "output_type": "stream",
          "text": [
            "/usr/local/lib/python3.6/dist-packages/ipykernel_launcher.py:10: TqdmDeprecationWarning: This function will be removed in tqdm==5.0.0\n",
            "Please use `tqdm.notebook.tqdm` instead of `tqdm.tqdm_notebook`\n",
            "  # Remove the CWD from sys.path while we load stuff.\n"
          ],
          "name": "stderr"
        },
        {
          "output_type": "display_data",
          "data": {
            "application/vnd.jupyter.widget-view+json": {
              "model_id": "1b5528fd897542acbb1ec01f98e2c9fb",
              "version_minor": 0,
              "version_major": 2
            },
            "text/plain": [
              "HBox(children=(FloatProgress(value=1.0, bar_style='info', max=1.0), HTML(value='')))"
            ]
          },
          "metadata": {
            "tags": []
          }
        },
        {
          "output_type": "stream",
          "text": [
            "\n",
            "Expect 99270702 rows\n",
            "Found 99270702 rows. 83365054 train and 15905648 val\n"
          ],
          "name": "stdout"
        }
      ]
    },
    {
      "cell_type": "code",
      "metadata": {
        "colab": {
          "base_uri": "https://localhost:8080/",
          "height": 151,
          "referenced_widgets": [
            "0067bf6298714583ba86b9866479e8e7",
            "f65908ef24044612896c59bd47fb2828",
            "e6b16d1e1264488395adb4f2894093b1",
            "a2e68152f4704b0caf17b13679c6b6c9",
            "72414c7a62cd492a8f66763c210d59f0",
            "f906ba0e40c44ec58a9e2b3410f92844",
            "4b15d66f99f0432baf3bf2973b8a2c2f",
            "ed300b11987149c3b52a6c6eb1a61646"
          ]
        },
        "id": "TXRVB5Qz6enR",
        "outputId": "0df7963f-bc97-4d50-e2b0-685f9c5ab2e2"
      },
      "source": [
        "train_row_ids, val_row_ids = create_fold(train, val, users_with_target_questions, 1)\n",
        "assert len(set(train_row_ids).intersection(val_row_ids)) == 0\n",
        "pd.DataFrame({'row_id': train_row_ids}).to_feather('data/no_lectures/fold_1/train_rows.feather')\n",
        "pd.DataFrame({'row_id': val_row_ids}).to_feather('data/no_lectures/fold_1/val_rows.feather')"
      ],
      "execution_count": null,
      "outputs": [
        {
          "output_type": "stream",
          "text": [
            "/usr/local/lib/python3.6/dist-packages/ipykernel_launcher.py:10: TqdmDeprecationWarning: This function will be removed in tqdm==5.0.0\n",
            "Please use `tqdm.notebook.tqdm` instead of `tqdm.tqdm_notebook`\n",
            "  # Remove the CWD from sys.path while we load stuff.\n"
          ],
          "name": "stderr"
        },
        {
          "output_type": "display_data",
          "data": {
            "application/vnd.jupyter.widget-view+json": {
              "model_id": "0067bf6298714583ba86b9866479e8e7",
              "version_minor": 0,
              "version_major": 2
            },
            "text/plain": [
              "HBox(children=(FloatProgress(value=1.0, bar_style='info', max=1.0), HTML(value='')))"
            ]
          },
          "metadata": {
            "tags": []
          }
        },
        {
          "output_type": "stream",
          "text": [
            "\n",
            "Expect 99270702 rows\n",
            "Found 99270702 rows. 88314713 train and 10955989 val\n"
          ],
          "name": "stdout"
        }
      ]
    },
    {
      "cell_type": "code",
      "metadata": {
        "colab": {
          "base_uri": "https://localhost:8080/",
          "height": 151,
          "referenced_widgets": [
            "af10d6bd3efd4bddb5698b4bc6cd7b22",
            "c4d3a2add1df47889f62af0aee124a3d",
            "faa295f0b7c5484084ec1836f54d821f",
            "5e9289c8c4ef4a65a591093cb7c330be",
            "2d9ecaf493f347e8a4454225cd3efc77",
            "17fc481e7b0346fc9afa77008565a582",
            "c13ac9547c534102b960e56388b97825",
            "78550a9444aa483cab34e80a56017635"
          ]
        },
        "id": "v7xDICA76ep-",
        "outputId": "4af21e7c-ae11-4a93-fda9-c869370e6e85"
      },
      "source": [
        "train_row_ids, val_row_ids = create_fold(train, val, users_with_target_questions, 2)\n",
        "assert len(set(train_row_ids).intersection(val_row_ids)) == 0\n",
        "pd.DataFrame({'row_id': train_row_ids}).to_feather('data/no_lectures/fold_2/train_rows.feather')\n",
        "pd.DataFrame({'row_id': val_row_ids}).to_feather('data/no_lectures/fold_2/val_rows.feather')"
      ],
      "execution_count": null,
      "outputs": [
        {
          "output_type": "stream",
          "text": [
            "/usr/local/lib/python3.6/dist-packages/ipykernel_launcher.py:10: TqdmDeprecationWarning: This function will be removed in tqdm==5.0.0\n",
            "Please use `tqdm.notebook.tqdm` instead of `tqdm.tqdm_notebook`\n",
            "  # Remove the CWD from sys.path while we load stuff.\n"
          ],
          "name": "stderr"
        },
        {
          "output_type": "display_data",
          "data": {
            "application/vnd.jupyter.widget-view+json": {
              "model_id": "af10d6bd3efd4bddb5698b4bc6cd7b22",
              "version_minor": 0,
              "version_major": 2
            },
            "text/plain": [
              "HBox(children=(FloatProgress(value=1.0, bar_style='info', max=1.0), HTML(value='')))"
            ]
          },
          "metadata": {
            "tags": []
          }
        },
        {
          "output_type": "stream",
          "text": [
            "\n",
            "Expect 99270702 rows\n",
            "Found 99270702 rows. 93197329 train and 6073373 val\n"
          ],
          "name": "stdout"
        }
      ]
    }
  ]
}